{
  "nbformat": 4,
  "nbformat_minor": 0,
  "metadata": {
    "accelerator": "GPU",
    "colab": {
      "name": "mnist_gan.ipynb",
      "provenance": [],
      "collapsed_sections": [],
      "include_colab_link": true
    },
    "kernelspec": {
      "display_name": "Python 3",
      "name": "python3"
    },
    "language_info": {
      "name": "python"
    },
    "widgets": {
      "application/vnd.jupyter.widget-state+json": {
        "93100bf5ad264e8dbdd306a6f61350c3": {
          "model_module": "@jupyter-widgets/controls",
          "model_name": "HBoxModel",
          "model_module_version": "1.5.0",
          "state": {
            "_view_name": "HBoxView",
            "_dom_classes": [],
            "_model_name": "HBoxModel",
            "_view_module": "@jupyter-widgets/controls",
            "_model_module_version": "1.5.0",
            "_view_count": null,
            "_view_module_version": "1.5.0",
            "box_style": "",
            "layout": "IPY_MODEL_49cf02c19971424ba01b2735f1dd9e9d",
            "_model_module": "@jupyter-widgets/controls",
            "children": [
              "IPY_MODEL_c58aa83602c446b2982693b55ad6dfd5",
              "IPY_MODEL_7d62e542b9674ed88378480aaadfb441",
              "IPY_MODEL_62c7a8cbd1c74cd3aa2ec839b0882f82"
            ]
          }
        },
        "49cf02c19971424ba01b2735f1dd9e9d": {
          "model_module": "@jupyter-widgets/base",
          "model_name": "LayoutModel",
          "model_module_version": "1.2.0",
          "state": {
            "_view_name": "LayoutView",
            "grid_template_rows": null,
            "right": null,
            "justify_content": null,
            "_view_module": "@jupyter-widgets/base",
            "overflow": null,
            "_model_module_version": "1.2.0",
            "_view_count": null,
            "flex_flow": null,
            "width": null,
            "min_width": null,
            "border": null,
            "align_items": null,
            "bottom": null,
            "_model_module": "@jupyter-widgets/base",
            "top": null,
            "grid_column": null,
            "overflow_y": null,
            "overflow_x": null,
            "grid_auto_flow": null,
            "grid_area": null,
            "grid_template_columns": null,
            "flex": null,
            "_model_name": "LayoutModel",
            "justify_items": null,
            "grid_row": null,
            "max_height": null,
            "align_content": null,
            "visibility": null,
            "align_self": null,
            "height": null,
            "min_height": null,
            "padding": null,
            "grid_auto_rows": null,
            "grid_gap": null,
            "max_width": null,
            "order": null,
            "_view_module_version": "1.2.0",
            "grid_template_areas": null,
            "object_position": null,
            "object_fit": null,
            "grid_auto_columns": null,
            "margin": null,
            "display": null,
            "left": null
          }
        },
        "c58aa83602c446b2982693b55ad6dfd5": {
          "model_module": "@jupyter-widgets/controls",
          "model_name": "HTMLModel",
          "model_module_version": "1.5.0",
          "state": {
            "_view_name": "HTMLView",
            "style": "IPY_MODEL_7a525c4e353649818f8dec11051293c6",
            "_dom_classes": [],
            "description": "",
            "_model_name": "HTMLModel",
            "placeholder": "​",
            "_view_module": "@jupyter-widgets/controls",
            "_model_module_version": "1.5.0",
            "value": "Dl Completed...: 100%",
            "_view_count": null,
            "_view_module_version": "1.5.0",
            "description_tooltip": null,
            "_model_module": "@jupyter-widgets/controls",
            "layout": "IPY_MODEL_a854f96e60c8457a9833a5fae67f1df6"
          }
        },
        "7d62e542b9674ed88378480aaadfb441": {
          "model_module": "@jupyter-widgets/controls",
          "model_name": "FloatProgressModel",
          "model_module_version": "1.5.0",
          "state": {
            "_view_name": "ProgressView",
            "style": "IPY_MODEL_dd22b5db10f8444ab630f75ff2c9f787",
            "_dom_classes": [],
            "description": "",
            "_model_name": "FloatProgressModel",
            "bar_style": "success",
            "max": 4,
            "_view_module": "@jupyter-widgets/controls",
            "_model_module_version": "1.5.0",
            "value": 4,
            "_view_count": null,
            "_view_module_version": "1.5.0",
            "orientation": "horizontal",
            "min": 0,
            "description_tooltip": null,
            "_model_module": "@jupyter-widgets/controls",
            "layout": "IPY_MODEL_b716a74f0a3440c59238aff19a0d1be4"
          }
        },
        "62c7a8cbd1c74cd3aa2ec839b0882f82": {
          "model_module": "@jupyter-widgets/controls",
          "model_name": "HTMLModel",
          "model_module_version": "1.5.0",
          "state": {
            "_view_name": "HTMLView",
            "style": "IPY_MODEL_e7dfdf0595d440c3b4bc3d1e4a6e5301",
            "_dom_classes": [],
            "description": "",
            "_model_name": "HTMLModel",
            "placeholder": "​",
            "_view_module": "@jupyter-widgets/controls",
            "_model_module_version": "1.5.0",
            "value": " 4/4 [00:00&lt;00:00, 13.20 file/s]",
            "_view_count": null,
            "_view_module_version": "1.5.0",
            "description_tooltip": null,
            "_model_module": "@jupyter-widgets/controls",
            "layout": "IPY_MODEL_a173b732a83d4bf79202e617822d20c8"
          }
        },
        "7a525c4e353649818f8dec11051293c6": {
          "model_module": "@jupyter-widgets/controls",
          "model_name": "DescriptionStyleModel",
          "model_module_version": "1.5.0",
          "state": {
            "_view_name": "StyleView",
            "_model_name": "DescriptionStyleModel",
            "description_width": "",
            "_view_module": "@jupyter-widgets/base",
            "_model_module_version": "1.5.0",
            "_view_count": null,
            "_view_module_version": "1.2.0",
            "_model_module": "@jupyter-widgets/controls"
          }
        },
        "a854f96e60c8457a9833a5fae67f1df6": {
          "model_module": "@jupyter-widgets/base",
          "model_name": "LayoutModel",
          "model_module_version": "1.2.0",
          "state": {
            "_view_name": "LayoutView",
            "grid_template_rows": null,
            "right": null,
            "justify_content": null,
            "_view_module": "@jupyter-widgets/base",
            "overflow": null,
            "_model_module_version": "1.2.0",
            "_view_count": null,
            "flex_flow": null,
            "width": null,
            "min_width": null,
            "border": null,
            "align_items": null,
            "bottom": null,
            "_model_module": "@jupyter-widgets/base",
            "top": null,
            "grid_column": null,
            "overflow_y": null,
            "overflow_x": null,
            "grid_auto_flow": null,
            "grid_area": null,
            "grid_template_columns": null,
            "flex": null,
            "_model_name": "LayoutModel",
            "justify_items": null,
            "grid_row": null,
            "max_height": null,
            "align_content": null,
            "visibility": null,
            "align_self": null,
            "height": null,
            "min_height": null,
            "padding": null,
            "grid_auto_rows": null,
            "grid_gap": null,
            "max_width": null,
            "order": null,
            "_view_module_version": "1.2.0",
            "grid_template_areas": null,
            "object_position": null,
            "object_fit": null,
            "grid_auto_columns": null,
            "margin": null,
            "display": null,
            "left": null
          }
        },
        "dd22b5db10f8444ab630f75ff2c9f787": {
          "model_module": "@jupyter-widgets/controls",
          "model_name": "ProgressStyleModel",
          "model_module_version": "1.5.0",
          "state": {
            "_view_name": "StyleView",
            "_model_name": "ProgressStyleModel",
            "description_width": "",
            "_view_module": "@jupyter-widgets/base",
            "_model_module_version": "1.5.0",
            "_view_count": null,
            "_view_module_version": "1.2.0",
            "bar_color": null,
            "_model_module": "@jupyter-widgets/controls"
          }
        },
        "b716a74f0a3440c59238aff19a0d1be4": {
          "model_module": "@jupyter-widgets/base",
          "model_name": "LayoutModel",
          "model_module_version": "1.2.0",
          "state": {
            "_view_name": "LayoutView",
            "grid_template_rows": null,
            "right": null,
            "justify_content": null,
            "_view_module": "@jupyter-widgets/base",
            "overflow": null,
            "_model_module_version": "1.2.0",
            "_view_count": null,
            "flex_flow": null,
            "width": null,
            "min_width": null,
            "border": null,
            "align_items": null,
            "bottom": null,
            "_model_module": "@jupyter-widgets/base",
            "top": null,
            "grid_column": null,
            "overflow_y": null,
            "overflow_x": null,
            "grid_auto_flow": null,
            "grid_area": null,
            "grid_template_columns": null,
            "flex": null,
            "_model_name": "LayoutModel",
            "justify_items": null,
            "grid_row": null,
            "max_height": null,
            "align_content": null,
            "visibility": null,
            "align_self": null,
            "height": null,
            "min_height": null,
            "padding": null,
            "grid_auto_rows": null,
            "grid_gap": null,
            "max_width": null,
            "order": null,
            "_view_module_version": "1.2.0",
            "grid_template_areas": null,
            "object_position": null,
            "object_fit": null,
            "grid_auto_columns": null,
            "margin": null,
            "display": null,
            "left": null
          }
        },
        "e7dfdf0595d440c3b4bc3d1e4a6e5301": {
          "model_module": "@jupyter-widgets/controls",
          "model_name": "DescriptionStyleModel",
          "model_module_version": "1.5.0",
          "state": {
            "_view_name": "StyleView",
            "_model_name": "DescriptionStyleModel",
            "description_width": "",
            "_view_module": "@jupyter-widgets/base",
            "_model_module_version": "1.5.0",
            "_view_count": null,
            "_view_module_version": "1.2.0",
            "_model_module": "@jupyter-widgets/controls"
          }
        },
        "a173b732a83d4bf79202e617822d20c8": {
          "model_module": "@jupyter-widgets/base",
          "model_name": "LayoutModel",
          "model_module_version": "1.2.0",
          "state": {
            "_view_name": "LayoutView",
            "grid_template_rows": null,
            "right": null,
            "justify_content": null,
            "_view_module": "@jupyter-widgets/base",
            "overflow": null,
            "_model_module_version": "1.2.0",
            "_view_count": null,
            "flex_flow": null,
            "width": null,
            "min_width": null,
            "border": null,
            "align_items": null,
            "bottom": null,
            "_model_module": "@jupyter-widgets/base",
            "top": null,
            "grid_column": null,
            "overflow_y": null,
            "overflow_x": null,
            "grid_auto_flow": null,
            "grid_area": null,
            "grid_template_columns": null,
            "flex": null,
            "_model_name": "LayoutModel",
            "justify_items": null,
            "grid_row": null,
            "max_height": null,
            "align_content": null,
            "visibility": null,
            "align_self": null,
            "height": null,
            "min_height": null,
            "padding": null,
            "grid_auto_rows": null,
            "grid_gap": null,
            "max_width": null,
            "order": null,
            "_view_module_version": "1.2.0",
            "grid_template_areas": null,
            "object_position": null,
            "object_fit": null,
            "grid_auto_columns": null,
            "margin": null,
            "display": null,
            "left": null
          }
        }
      }
    }
  },
  "cells": [
    {
      "cell_type": "markdown",
      "metadata": {
        "id": "view-in-github",
        "colab_type": "text"
      },
      "source": [
        "<a href=\"https://colab.research.google.com/github/PaulFroehling/MNIST-GAN/blob/main/mnist_gan.ipynb\" target=\"_parent\"><img src=\"https://colab.research.google.com/assets/colab-badge.svg\" alt=\"Open In Colab\"/></a>"
      ]
    },
    {
      "cell_type": "code",
      "metadata": {
        "id": "dHqQD4iNXp19"
      },
      "source": [
        "import tensorflow as tf\n",
        "import tensorflow_datasets as tfds\n",
        "import numpy as np\n",
        "from matplotlib import pyplot\n",
        "import random"
      ],
      "execution_count": null,
      "outputs": []
    },
    {
      "cell_type": "code",
      "metadata": {
        "colab": {
          "base_uri": "https://localhost:8080/",
          "height": 205,
          "referenced_widgets": [
            "93100bf5ad264e8dbdd306a6f61350c3",
            "49cf02c19971424ba01b2735f1dd9e9d",
            "c58aa83602c446b2982693b55ad6dfd5",
            "7d62e542b9674ed88378480aaadfb441",
            "62c7a8cbd1c74cd3aa2ec839b0882f82",
            "7a525c4e353649818f8dec11051293c6",
            "a854f96e60c8457a9833a5fae67f1df6",
            "dd22b5db10f8444ab630f75ff2c9f787",
            "b716a74f0a3440c59238aff19a0d1be4",
            "e7dfdf0595d440c3b4bc3d1e4a6e5301",
            "a173b732a83d4bf79202e617822d20c8"
          ]
        },
        "id": "P4hdh3MXYBS0",
        "outputId": "2626905e-35b7-4e75-ea24-0852b9a0dbb0"
      },
      "source": [
        "mnist = tfds.image.MNIST\n",
        "mnist = tfds.builder('mnist')\n",
        "mnist.download_and_prepare()\n",
        "\n",
        "no_samples=6000\n",
        "dim_latent_space=100"
      ],
      "execution_count": null,
      "outputs": [
        {
          "output_type": "stream",
          "name": "stdout",
          "text": [
            "\u001b[1mDownloading and preparing dataset mnist/3.0.1 (download: 11.06 MiB, generated: 21.00 MiB, total: 32.06 MiB) to /root/tensorflow_datasets/mnist/3.0.1...\u001b[0m\n"
          ]
        },
        {
          "output_type": "stream",
          "name": "stderr",
          "text": [
            "WARNING:absl:Dataset mnist is hosted on GCS. It will automatically be downloaded to your\n",
            "local data directory. If you'd instead prefer to read directly from our public\n",
            "GCS bucket (recommended if you're running on GCP), you can instead pass\n",
            "`try_gcs=True` to `tfds.load` or set `data_dir=gs://tfds-data/datasets`.\n",
            "\n"
          ]
        },
        {
          "output_type": "display_data",
          "data": {
            "application/vnd.jupyter.widget-view+json": {
              "model_id": "93100bf5ad264e8dbdd306a6f61350c3",
              "version_minor": 0,
              "version_major": 2
            },
            "text/plain": [
              "Dl Completed...:   0%|          | 0/4 [00:00<?, ? file/s]"
            ]
          },
          "metadata": {}
        },
        {
          "output_type": "stream",
          "name": "stdout",
          "text": [
            "\n",
            "\u001b[1mDataset mnist downloaded and prepared to /root/tensorflow_datasets/mnist/3.0.1. Subsequent calls will reuse this data.\u001b[0m\n"
          ]
        }
      ]
    },
    {
      "cell_type": "code",
      "metadata": {
        "id": "T4dmKqQDYNK5"
      },
      "source": [
        "data = mnist.as_dataset()\n",
        "train_dataset, test_dataset = data['train'], data['test']\n",
        "\n",
        "images = []\n",
        "for sample in train_dataset:\n",
        "  image, label = sample['image'], sample['label']\n",
        "  images.append(image)\n"
      ],
      "execution_count": null,
      "outputs": []
    },
    {
      "cell_type": "code",
      "metadata": {
        "colab": {
          "base_uri": "https://localhost:8080/"
        },
        "id": "WEvE8yfAnLcz",
        "outputId": "d8a5d966-35e2-48ad-ef79-340e3d67b13a"
      },
      "source": [
        "train_data = np.array(images)\n",
        "train_data = train_data.astype('float32')\n",
        "train_data = train_data/255.0\n",
        "\n",
        "print(np.array(train_data).shape)\n"
      ],
      "execution_count": null,
      "outputs": [
        {
          "output_type": "stream",
          "name": "stdout",
          "text": [
            "(60000, 28, 28, 1)\n"
          ]
        }
      ]
    },
    {
      "cell_type": "code",
      "metadata": {
        "id": "_wyyTUrb4aYZ"
      },
      "source": [
        "classif = tf.keras.Sequential([\n",
        "                     tf.keras.layers.Conv2D(64,(3,3), strides=(2,2), input_shape=(28, 28, 1), padding='same'),\n",
        "                     tf.keras.layers.LeakyReLU(alpha=0.2),\n",
        "                     tf.keras.layers.Dropout(0.4),\n",
        "                     tf.keras.layers.Conv2D(64,(3,3), strides=(2,2), padding='same'),\n",
        "                     tf.keras.layers.LeakyReLU(alpha=0.2),\n",
        "                     tf.keras.layers.Dropout(0.4),\n",
        "                     tf.keras.layers.Flatten(),\n",
        "                     tf.keras.layers.Dense(1, activation=\"sigmoid\")\n",
        "])\n",
        "optimizer = tf.keras.optimizers.Adam(learning_rate=0.0002, beta_1=0.5)\n",
        "classif.compile(loss=\"binary_crossentropy\", optimizer=optimizer, metrics=[\"accuracy\"])"
      ],
      "execution_count": null,
      "outputs": []
    },
    {
      "cell_type": "code",
      "metadata": {
        "id": "6vVd-BoCvVZI"
      },
      "source": [
        "generator = tf.keras.Sequential([\n",
        "                                 tf.keras.layers.Dense(128*7*7, input_dim=dim_latent_space),\n",
        "                                 tf.keras.layers.LeakyReLU(alpha=0.2),\n",
        "                                 tf.keras.layers.Reshape((7,7,128)),                                \n",
        "                                 tf.keras.layers.Conv2DTranspose(128, (4,4), strides=(2,2), padding=\"same\"),\n",
        "                                 tf.keras.layers.LeakyReLU(alpha=0.2),\n",
        "                                 tf.keras.layers.Conv2DTranspose(128, (4,4), strides=(2,2), padding=\"same\"),\n",
        "                                 tf.keras.layers.LeakyReLU(alpha=0.2),\n",
        "                                 tf.keras.layers.Conv2D(1, (7,7), activation='sigmoid', padding='same')\n",
        "])"
      ],
      "execution_count": null,
      "outputs": []
    },
    {
      "cell_type": "code",
      "metadata": {
        "id": "Z0WoRDd8x9ha"
      },
      "source": [
        "from keras.utils.vis_utils import plot_model\n",
        "\n",
        "def create_gan(classifier, generator):\n",
        "  classifier.trainabe = False\n",
        "  gan = tf.keras.Sequential()\n",
        "  gan.add(generator)\n",
        "  gan.add(classifier)\n",
        "  optimizer = tf.keras.optimizers.Adam(learning_rate=0.0002, beta_1=0.5)\n",
        "  gan.compile(optimizer=optimizer, loss=\"binary_crossentropy\")\n",
        "  return gan"
      ],
      "execution_count": null,
      "outputs": []
    },
    {
      "cell_type": "code",
      "metadata": {
        "id": "xK9tHEFmzN0r"
      },
      "source": [
        "from numpy.random import randn\n",
        "\n",
        "def generate_latent_sample(no_latent_samples=300):\n",
        "   return randn(dim_latent_space * no_latent_samples).reshape(no_latent_samples, dim_latent_space)\n",
        "   \n",
        "\n",
        "def generate_fake_images(no_latent_samples=300):\n",
        "  latent_sample = generate_latent_sample(no_latent_samples)\n",
        "  fake_images= np.array(generator.predict(latent_sample))\n",
        "  fake_labels = np.zeros((no_latent_samples,1))\n",
        "  return fake_images, fake_labels\n",
        "\n",
        "#zero-fak, one - real\n",
        "def get_real_data(no_samples=300):\n",
        "  indices = np.random.randint(0, train_data.shape[0], size=no_samples)\n",
        "  real_samples = train_data[indices]\n",
        "  real_labels = np.ones((no_samples,1))\n",
        "  return real_samples, real_labels\n"
      ],
      "execution_count": null,
      "outputs": []
    },
    {
      "cell_type": "code",
      "metadata": {
        "colab": {
          "base_uri": "https://localhost:8080/",
          "height": 244
        },
        "id": "D7lY8d-JWNbe",
        "outputId": "f4c98335-1295-4ade-81fb-f1c6508f85eb"
      },
      "source": [
        "test_sample = np.random.random_sample(1000)\n",
        "test_sample = test_sample.reshape((10,100))\n",
        "\n",
        "test_image= np.array(generator.predict(test_sample))\n",
        "print(test_image.shape)\n",
        "for i in range(0, 10):\n",
        "  pyplot.subplot(2,5,1+i)\n",
        "  pyplot.imshow(np.reshape(test_image[i],(28,28)))"
      ],
      "execution_count": null,
      "outputs": [
        {
          "output_type": "stream",
          "name": "stdout",
          "text": [
            "(10, 28, 28, 1)\n"
          ]
        },
        {
          "output_type": "display_data",
          "data": {
            "image/png": "[encoded data removed]",
            "text/plain": [
              "<Figure size 432x288 with 10 Axes>"
            ]
          },
          "metadata": {
            "needs_background": "light"
          }
        }
      ]
    },
    {
      "cell_type": "code",
      "metadata": {
        "id": "yEn_yptqM0sN"
      },
      "source": [
        "gan = create_gan(classif, generator)"
      ],
      "execution_count": null,
      "outputs": []
    },
    {
      "cell_type": "code",
      "metadata": {
        "id": "Oc2SVOo5WLR_"
      },
      "source": [
        "epochs=30\n",
        "batch_size=256\n",
        "\n",
        "for i in range(0,epochs):\n",
        "  print(i)\n",
        "  print(train_data.shape[0])\n",
        "  batches_per_epoch = int(train_data.shape[0] / batch_size) #hier ist was falsch\n",
        "  print(batches_per_epoch)\n",
        "  for j in range(0, batches_per_epoch):\n",
        "    fake_images, fake_labels = generate_fake_images(int(batch_size/2))\n",
        "    real_images,real_labels = get_real_data(no_samples=int(batch_size/2))\n",
        "    train_x_classif, train_y_class = np.vstack((real_images, fake_images)), np.vstack((real_labels, fake_labels))\n",
        "\n",
        "    classif.trainable=True\n",
        "    classif_loss= classif.train_on_batch(train_x_classif, train_y_class)\n",
        "    x_gan = generate_latent_sample(batch_size)\n",
        "    y_gan = np.ones((batch_size))\n",
        "    classif.trainable=False\n",
        "    gan_loss = gan.train_on_batch(x_gan,y_gan)\n",
        "    if(j%100==0):\n",
        "      print(\"j: \"+str(j))\n",
        "  \n",
        "  print(\"classifier loss \"+str(classif_loss))\n",
        "  print(\"gan loss \"+str(gan_loss))"
      ],
      "execution_count": null,
      "outputs": []
    },
    {
      "cell_type": "code",
      "metadata": {
        "colab": {
          "base_uri": "https://localhost:8080/"
        },
        "id": "5Yj1HFfs2pve",
        "outputId": "75762e59-3aef-4113-8600-eaeb10204673"
      },
      "source": [
        "#gan.save(\"/tmp/gan\")\n",
        "generator.save(\"/tmp/generator\")\n",
        "classif.save(\"/tmp/classifier\")"
      ],
      "execution_count": null,
      "outputs": [
        {
          "output_type": "stream",
          "name": "stdout",
          "text": [
            "WARNING:tensorflow:Compiled the loaded model, but the compiled metrics have yet to be built. `model.compile_metrics` will be empty until you train or evaluate the model.\n"
          ]
        },
        {
          "output_type": "stream",
          "name": "stderr",
          "text": [
            "WARNING:tensorflow:Compiled the loaded model, but the compiled metrics have yet to be built. `model.compile_metrics` will be empty until you train or evaluate the model.\n"
          ]
        },
        {
          "output_type": "stream",
          "name": "stdout",
          "text": [
            "INFO:tensorflow:Assets written to: /tmp/generator/assets\n"
          ]
        },
        {
          "output_type": "stream",
          "name": "stderr",
          "text": [
            "INFO:tensorflow:Assets written to: /tmp/generator/assets\n"
          ]
        },
        {
          "output_type": "stream",
          "name": "stdout",
          "text": [
            "INFO:tensorflow:Assets written to: /tmp/classifier/assets\n"
          ]
        },
        {
          "output_type": "stream",
          "name": "stderr",
          "text": [
            "INFO:tensorflow:Assets written to: /tmp/classifier/assets\n"
          ]
        }
      ]
    },
    {
      "cell_type": "code",
      "metadata": {
        "id": "GQD6eZAe33kY"
      },
      "source": [
        "from google.colab import files\n",
        "!zip -r \"/tmp/gan.zip\" \"/tmp/gan\"\n",
        "!zip -r \"/tmp/generator.zip\" \"/tmp/generator\"\n",
        "!zip -r \"/tmp/classifier.zip\" \"/tmp/classifier\"\n",
        "\n",
        "files.download(\"/tmp/gan.zip\")\n",
        "files.download(\"/tmp/generator.zip\")\n",
        "files.download(\"/tmp/classifier.zip\")"
      ],
      "execution_count": null,
      "outputs": []
    },
    {
      "cell_type": "markdown",
      "metadata": {
        "id": "hr1Q63ka3JOI"
      },
      "source": [
        "# Neuer Abschnitt"
      ]
    },
    {
      "cell_type": "code",
      "metadata": {
        "id": "Nu1iIvKqRht8",
        "colab": {
          "base_uri": "https://localhost:8080/",
          "height": 269
        },
        "outputId": "060ce782-6e7e-4ddb-d9ca-2f99641dae53"
      },
      "source": [
        "#test_sample = np.random.random_sample(300)\n",
        "#test_sample = test_sample.reshape((30,100))\n",
        "\n",
        "no_examples = 10\n",
        "test_sample = randn(100 * no_examples).reshape(no_examples, 100)\n",
        "test_image= np.array(generator.predict(test_sample))\n",
        "\n",
        "for i in range(0, no_examples):\n",
        "  pyplot.subplot(no_examples/2,2,1+i)\n",
        "  pyplot.imshow(np.reshape(test_image[i],(28,28)))\n",
        "\n",
        "\n"
      ],
      "execution_count": null,
      "outputs": [
        {
          "output_type": "display_data",
          "data": {
            "image/png": "[encoded data removed]",
            "text/plain": [
              "<Figure size 432x288 with 10 Axes>"
            ]
          },
          "metadata": {
            "needs_background": "light"
          }
        }
      ]
    }
  ]
}